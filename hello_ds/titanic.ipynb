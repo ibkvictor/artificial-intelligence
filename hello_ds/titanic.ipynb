{
 "metadata": {
  "language_info": {
   "codemirror_mode": {
    "name": "ipython",
    "version": 3
   },
   "file_extension": ".py",
   "mimetype": "text/x-python",
   "name": "python",
   "nbconvert_exporter": "python",
   "pygments_lexer": "ipython3",
   "version": "3.8.1-final"
  },
  "orig_nbformat": 2,
  "kernelspec": {
   "name": "python_defaultSpec_1597873791933",
   "display_name": "Python 3.8.1 64-bit"
  }
 },
 "nbformat": 4,
 "nbformat_minor": 2,
 "cells": [
  {
   "cell_type": "code",
   "execution_count": 1,
   "metadata": {
    "tags": []
   },
   "outputs": [
    {
     "output_type": "stream",
     "name": "stdout",
     "text": "test.csv\ntrain.csv\ngender_submission.csv\n"
    }
   ],
   "source": [
    "import numpy as np\n",
    "import pandas as pd\n",
    "import os\n",
    "base_path = '/Users/user/Downloads/titanic/'\n",
    "with os.scandir(base_path) as entrie:\n",
    "    for entr in entrie:\n",
    "        if entr.is_file:\n",
    "            print (entr.name)"
   ]
  },
  {
   "cell_type": "code",
   "execution_count": 2,
   "metadata": {
    "tags": []
   },
   "outputs": [
    {
     "output_type": "stream",
     "name": "stdout",
     "text": "<bound method NDFrame.head of      PassengerId  Survived  Pclass  \\\n0              1         0       3   \n1              2         1       1   \n2              3         1       3   \n3              4         1       1   \n4              5         0       3   \n..           ...       ...     ...   \n886          887         0       2   \n887          888         1       1   \n888          889         0       3   \n889          890         1       1   \n890          891         0       3   \n\n                                                  Name     Sex   Age  SibSp  \\\n0                              Braund, Mr. Owen Harris    male  22.0      1   \n1    Cumings, Mrs. John Bradley (Florence Briggs Th...  female  38.0      1   \n2                               Heikkinen, Miss. Laina  female  26.0      0   \n3         Futrelle, Mrs. Jacques Heath (Lily May Peel)  female  35.0      1   \n4                             Allen, Mr. William Henry    male  35.0      0   \n..                                                 ...     ...   ...    ...   \n886                              Montvila, Rev. Juozas    male  27.0      0   \n887                       Graham, Miss. Margaret Edith  female  19.0      0   \n888           Johnston, Miss. Catherine Helen \"Carrie\"  female   NaN      1   \n889                              Behr, Mr. Karl Howell    male  26.0      0   \n890                                Dooley, Mr. Patrick    male  32.0      0   \n\n     Parch            Ticket     Fare Cabin Embarked  \n0        0         A/5 21171   7.2500   NaN        S  \n1        0          PC 17599  71.2833   C85        C  \n2        0  STON/O2. 3101282   7.9250   NaN        S  \n3        0            113803  53.1000  C123        S  \n4        0            373450   8.0500   NaN        S  \n..     ...               ...      ...   ...      ...  \n886      0            211536  13.0000   NaN        S  \n887      0            112053  30.0000   B42        S  \n888      2        W./C. 6607  23.4500   NaN        S  \n889      0            111369  30.0000  C148        C  \n890      0            370376   7.7500   NaN        Q  \n\n[891 rows x 12 columns]>\n"
    }
   ],
   "source": [
    "df = pd.read_csv('train.csv', engine='python')\n",
    "print (df.head)"
   ]
  },
  {
   "cell_type": "code",
   "execution_count": 3,
   "metadata": {
    "tags": []
   },
   "outputs": [
    {
     "output_type": "stream",
     "name": "stdout",
     "text": "PassengerId      int64\nSurvived         int64\nPclass           int64\nName            object\nSex             object\nAge            float64\nSibSp            int64\nParch            int64\nTicket          object\nFare           float64\nCabin           object\nEmbarked        object\ndtype: object\n"
    }
   ],
   "source": [
    "print (df.dtypes) # to ensure that the datatypes are what I expect\n",
    "# print (list(df.columns)) ### provides me with the list of all the columns\n",
    "# pd.replace('?',np.nan, inplace = True) ## when the data in not in the same form"
   ]
  },
  {
   "cell_type": "code",
   "execution_count": 4,
   "metadata": {
    "tags": []
   },
   "outputs": [],
   "source": [
    "import matplotlib.pyplot as plt\n",
    "import seaborn as sns\n",
    "df['Sex'] = df['Sex'].replace({'male':1, 'female':0})\n",
    "# sns.violinplot(x = 'Survived', y= 'Pclass',hue= 'Sex', data=df, ax=0)\n",
    "# sns.barplot(x = 'Pclass', y = 'Survived', hue = 'Sex', data = df, ax=1)\n"
   ]
  },
  {
   "cell_type": "code",
   "execution_count": 5,
   "metadata": {},
   "outputs": [],
   "source": [
    "import tensorflow as tf\n",
    "import tensorflow.keras as K\n"
   ]
  },
  {
   "cell_type": "code",
   "execution_count": 9,
   "metadata": {},
   "outputs": [],
   "source": [
    "model = K.Model\n",
    "# df['Sex'].replace({'male':1,'female':0})\n"
   ]
  },
  {
   "cell_type": "code",
   "execution_count": 10,
   "metadata": {
    "tags": []
   },
   "outputs": [
    {
     "output_type": "stream",
     "name": "stdout",
     "text": "Index(['PassengerId', 'Survived', 'Pclass', 'Sex', 'Age', 'SibSp', 'Parch',\n       'Fare'],\n      dtype='object')\n"
    }
   ],
   "source": [
    "print(df.corr().columns)"
   ]
  },
  {
   "cell_type": "code",
   "execution_count": 11,
   "metadata": {},
   "outputs": [],
   "source": [
    "# model.input = df[['Sex','Pclass','Age','SibSp','Parch','Fare']]"
   ]
  },
  {
   "cell_type": "code",
   "execution_count": 29,
   "metadata": {},
   "outputs": [],
   "source": [
    "X_Input = K.Input(shape=(6,))\n",
    "X = K.layers.Dense(10)(X_Input)\n",
    "y = X\n",
    "X = K.layers.Activation('relu')(X)\n",
    "X = K.layers.BatchNormalization()(X)\n",
    "X = K.layers.Dense(12, activation= 'relu', kernel_regularizer='l2')(X)\n",
    "X = K.layers.BatchNormalization()(X)\n",
    "X = K.layers.Dense(4, activation= 'relu', kernel_regularizer='l2')(X)\n",
    "X = K.layers.BatchNormalization()(X)\n",
    "X = K.layers.Dense(6, activation= 'relu')(X)\n",
    "X = K.layers.Add()([X,K.layers.Dense(6)(y)])\n",
    "X = K.layers.BatchNormalization()(X)\n",
    "X = K.layers.Dense(1, activation= 'sigmoid')(X)"
   ]
  },
  {
   "cell_type": "code",
   "execution_count": 30,
   "metadata": {
    "tags": []
   },
   "outputs": [],
   "source": [
    "model = K.Model(inputs = X_Input, outputs = X, name ='first_model')"
   ]
  },
  {
   "cell_type": "code",
   "execution_count": 31,
   "metadata": {
    "tags": []
   },
   "outputs": [
    {
     "output_type": "stream",
     "name": "stdout",
     "text": "Model: \"first_model\"\n__________________________________________________________________________________________________\nLayer (type)                    Output Shape         Param #     Connected to                     \n==================================================================================================\ninput_3 (InputLayer)            [(None, 6)]          0                                            \n__________________________________________________________________________________________________\ndense_12 (Dense)                (None, 10)           70          input_3[0][0]                    \n__________________________________________________________________________________________________\nactivation_2 (Activation)       (None, 10)           0           dense_12[0][0]                   \n__________________________________________________________________________________________________\nbatch_normalization_8 (BatchNor (None, 10)           40          activation_2[0][0]               \n__________________________________________________________________________________________________\ndense_13 (Dense)                (None, 12)           132         batch_normalization_8[0][0]      \n__________________________________________________________________________________________________\nbatch_normalization_9 (BatchNor (None, 12)           48          dense_13[0][0]                   \n__________________________________________________________________________________________________\ndense_14 (Dense)                (None, 4)            52          batch_normalization_9[0][0]      \n__________________________________________________________________________________________________\nbatch_normalization_10 (BatchNo (None, 4)            16          dense_14[0][0]                   \n__________________________________________________________________________________________________\ndense_15 (Dense)                (None, 6)            30          batch_normalization_10[0][0]     \n__________________________________________________________________________________________________\ndense_16 (Dense)                (None, 6)            66          dense_12[0][0]                   \n__________________________________________________________________________________________________\nadd_2 (Add)                     (None, 6)            0           dense_15[0][0]                   \n                                                                 dense_16[0][0]                   \n__________________________________________________________________________________________________\nbatch_normalization_11 (BatchNo (None, 6)            24          add_2[0][0]                      \n__________________________________________________________________________________________________\ndense_17 (Dense)                (None, 1)            7           batch_normalization_11[0][0]     \n==================================================================================================\nTotal params: 485\nTrainable params: 421\nNon-trainable params: 64\n__________________________________________________________________________________________________\nNone\n"
    }
   ],
   "source": [
    "print (model.summary())"
   ]
  },
  {
   "cell_type": "code",
   "execution_count": 32,
   "metadata": {
    "tags": []
   },
   "outputs": [
    {
     "output_type": "stream",
     "name": "stdout",
     "text": "Failed to import pydot. You must install pydot and graphviz for `pydotprint` to work.\n"
    }
   ],
   "source": [
    "K.utils.plot_model(model)"
   ]
  },
  {
   "cell_type": "code",
   "execution_count": 33,
   "metadata": {
    "tags": []
   },
   "outputs": [
    {
     "output_type": "stream",
     "name": "stdout",
     "text": "Epoch 1/50\n 2/14 [===>..........................] - ETA: 1s - loss: nan - accuracy: 0.5469WARNING:tensorflow:Method (on_train_batch_end) is slow compared to the batch update (0.119336). Check your callbacks.\n14/14 [==============================] - 0s 29ms/step - loss: nan - accuracy: 0.6162\nEpoch 2/50\n14/14 [==============================] - 0s 7ms/step - loss: nan - accuracy: 0.6162\nEpoch 3/50\n14/14 [==============================] - 0s 9ms/step - loss: nan - accuracy: 0.6162\nEpoch 4/50\n14/14 [==============================] - 0s 7ms/step - loss: nan - accuracy: 0.6162\nEpoch 5/50\n14/14 [==============================] - 0s 8ms/step - loss: nan - accuracy: 0.6162\nEpoch 6/50\n14/14 [==============================] - 0s 7ms/step - loss: nan - accuracy: 0.6162\nEpoch 7/50\n14/14 [==============================] - 0s 8ms/step - loss: nan - accuracy: 0.6162\nEpoch 8/50\n14/14 [==============================] - 0s 7ms/step - loss: nan - accuracy: 0.6162\nEpoch 9/50\n14/14 [==============================] - 0s 9ms/step - loss: nan - accuracy: 0.6162\nEpoch 10/50\n14/14 [==============================] - 0s 6ms/step - loss: nan - accuracy: 0.6162\nEpoch 11/50\n14/14 [==============================] - 0s 9ms/step - loss: nan - accuracy: 0.6162\nEpoch 12/50\n14/14 [==============================] - 0s 6ms/step - loss: nan - accuracy: 0.6162\nEpoch 13/50\n14/14 [==============================] - 0s 7ms/step - loss: nan - accuracy: 0.6162\nEpoch 14/50\n14/14 [==============================] - 0s 9ms/step - loss: nan - accuracy: 0.6162\nEpoch 15/50\n14/14 [==============================] - 0s 7ms/step - loss: nan - accuracy: 0.6162\nEpoch 16/50\n14/14 [==============================] - 0s 7ms/step - loss: nan - accuracy: 0.6162\nEpoch 17/50\n14/14 [==============================] - 0s 6ms/step - loss: nan - accuracy: 0.6162\nEpoch 18/50\n14/14 [==============================] - 0s 7ms/step - loss: nan - accuracy: 0.6162\nEpoch 19/50\n14/14 [==============================] - 0s 7ms/step - loss: nan - accuracy: 0.6162\nEpoch 20/50\n14/14 [==============================] - 0s 7ms/step - loss: nan - accuracy: 0.6162\nEpoch 21/50\n14/14 [==============================] - 0s 7ms/step - loss: nan - accuracy: 0.6162\nEpoch 22/50\n14/14 [==============================] - 0s 10ms/step - loss: nan - accuracy: 0.6162\nEpoch 23/50\n14/14 [==============================] - 0s 5ms/step - loss: nan - accuracy: 0.6162\nEpoch 24/50\n14/14 [==============================] - 0s 5ms/step - loss: nan - accuracy: 0.6162\nEpoch 25/50\n14/14 [==============================] - 0s 5ms/step - loss: nan - accuracy: 0.6162\nEpoch 26/50\n14/14 [==============================] - 0s 4ms/step - loss: nan - accuracy: 0.6162\nEpoch 27/50\n14/14 [==============================] - 0s 8ms/step - loss: nan - accuracy: 0.6162\nEpoch 28/50\n14/14 [==============================] - 0s 20ms/step - loss: nan - accuracy: 0.6162\nEpoch 29/50\n14/14 [==============================] - 0s 6ms/step - loss: nan - accuracy: 0.6162\nEpoch 30/50\n14/14 [==============================] - 0s 8ms/step - loss: nan - accuracy: 0.6162\nEpoch 31/50\n14/14 [==============================] - 0s 7ms/step - loss: nan - accuracy: 0.6162\nEpoch 32/50\n14/14 [==============================] - 0s 7ms/step - loss: nan - accuracy: 0.6162\nEpoch 33/50\n14/14 [==============================] - 0s 5ms/step - loss: nan - accuracy: 0.6162\nEpoch 34/50\n14/14 [==============================] - 0s 5ms/step - loss: nan - accuracy: 0.6162\nEpoch 35/50\n14/14 [==============================] - 0s 7ms/step - loss: nan - accuracy: 0.6162\nEpoch 36/50\n14/14 [==============================] - 0s 10ms/step - loss: nan - accuracy: 0.6162\nEpoch 37/50\n14/14 [==============================] - 0s 6ms/step - loss: nan - accuracy: 0.6162\nEpoch 38/50\n14/14 [==============================] - 0s 9ms/step - loss: nan - accuracy: 0.6162\nEpoch 39/50\n14/14 [==============================] - 0s 9ms/step - loss: nan - accuracy: 0.6162\nEpoch 40/50\n14/14 [==============================] - 0s 6ms/step - loss: nan - accuracy: 0.6162\nEpoch 41/50\n14/14 [==============================] - 0s 11ms/step - loss: nan - accuracy: 0.6162\nEpoch 42/50\n14/14 [==============================] - 0s 7ms/step - loss: nan - accuracy: 0.6162\nEpoch 43/50\n14/14 [==============================] - 0s 7ms/step - loss: nan - accuracy: 0.6162\nEpoch 44/50\n14/14 [==============================] - 0s 7ms/step - loss: nan - accuracy: 0.6162\nEpoch 45/50\n14/14 [==============================] - 0s 9ms/step - loss: nan - accuracy: 0.6162\nEpoch 46/50\n14/14 [==============================] - 0s 8ms/step - loss: nan - accuracy: 0.6162\nEpoch 47/50\n14/14 [==============================] - 0s 5ms/step - loss: nan - accuracy: 0.6162\nEpoch 48/50\n14/14 [==============================] - 0s 6ms/step - loss: nan - accuracy: 0.6162\nEpoch 49/50\n14/14 [==============================] - 0s 7ms/step - loss: nan - accuracy: 0.6162\nEpoch 50/50\n14/14 [==============================] - 0s 8ms/step - loss: nan - accuracy: 0.6162\n"
    },
    {
     "output_type": "execute_result",
     "data": {
      "text/plain": "<tensorflow.python.keras.callbacks.History at 0x1474683d0>"
     },
     "metadata": {},
     "execution_count": 33
    }
   ],
   "source": [
    "model.compile(optimizer = 'adam', loss ='binary_crossentropy', metrics= ['accuracy'])\n",
    "model.fit(x = df[['Pclass', 'Sex', 'Age', 'SibSp', 'Parch','Fare']],y = df['Survived'], batch_size = 64, epochs = 50, callbacks = K.callbacks.TensorBoard(log_dir = './logs'))"
   ]
  },
  {
   "cell_type": "code",
   "execution_count": 34,
   "metadata": {},
   "outputs": [],
   "source": [
    "df2  = pd.read_csv('test.csv')"
   ]
  },
  {
   "cell_type": "code",
   "execution_count": 37,
   "metadata": {},
   "outputs": [],
   "source": [
    "df2  = df2[['Pclass', 'Sex', 'Age', 'SibSp', 'Parch','Fare']]\n",
    "df2['Sex'] = df2['Sex'].replace({'male':1, 'female':0})"
   ]
  },
  {
   "cell_type": "code",
   "execution_count": 38,
   "metadata": {},
   "outputs": [
    {
     "output_type": "execute_result",
     "data": {
      "text/plain": "array([[nan],\n       [nan],\n       [nan],\n       [nan],\n       [nan],\n       [nan],\n       [nan],\n       [nan],\n       [nan],\n       [nan],\n       [nan],\n       [nan],\n       [nan],\n       [nan],\n       [nan],\n       [nan],\n       [nan],\n       [nan],\n       [nan],\n       [nan],\n       [nan],\n       [nan],\n       [nan],\n       [nan],\n       [nan],\n       [nan],\n       [nan],\n       [nan],\n       [nan],\n       [nan],\n       [nan],\n       [nan],\n       [nan],\n       [nan],\n       [nan],\n       [nan],\n       [nan],\n       [nan],\n       [nan],\n       [nan],\n       [nan],\n       [nan],\n       [nan],\n       [nan],\n       [nan],\n       [nan],\n       [nan],\n       [nan],\n       [nan],\n       [nan],\n       [nan],\n       [nan],\n       [nan],\n       [nan],\n       [nan],\n       [nan],\n       [nan],\n       [nan],\n       [nan],\n       [nan],\n       [nan],\n       [nan],\n       [nan],\n       [nan],\n       [nan],\n       [nan],\n       [nan],\n       [nan],\n       [nan],\n       [nan],\n       [nan],\n       [nan],\n       [nan],\n       [nan],\n       [nan],\n       [nan],\n       [nan],\n       [nan],\n       [nan],\n       [nan],\n       [nan],\n       [nan],\n       [nan],\n       [nan],\n       [nan],\n       [nan],\n       [nan],\n       [nan],\n       [nan],\n       [nan],\n       [nan],\n       [nan],\n       [nan],\n       [nan],\n       [nan],\n       [nan],\n       [nan],\n       [nan],\n       [nan],\n       [nan],\n       [nan],\n       [nan],\n       [nan],\n       [nan],\n       [nan],\n       [nan],\n       [nan],\n       [nan],\n       [nan],\n       [nan],\n       [nan],\n       [nan],\n       [nan],\n       [nan],\n       [nan],\n       [nan],\n       [nan],\n       [nan],\n       [nan],\n       [nan],\n       [nan],\n       [nan],\n       [nan],\n       [nan],\n       [nan],\n       [nan],\n       [nan],\n       [nan],\n       [nan],\n       [nan],\n       [nan],\n       [nan],\n       [nan],\n       [nan],\n       [nan],\n       [nan],\n       [nan],\n       [nan],\n       [nan],\n       [nan],\n       [nan],\n       [nan],\n       [nan],\n       [nan],\n       [nan],\n       [nan],\n       [nan],\n       [nan],\n       [nan],\n       [nan],\n       [nan],\n       [nan],\n       [nan],\n       [nan],\n       [nan],\n       [nan],\n       [nan],\n       [nan],\n       [nan],\n       [nan],\n       [nan],\n       [nan],\n       [nan],\n       [nan],\n       [nan],\n       [nan],\n       [nan],\n       [nan],\n       [nan],\n       [nan],\n       [nan],\n       [nan],\n       [nan],\n       [nan],\n       [nan],\n       [nan],\n       [nan],\n       [nan],\n       [nan],\n       [nan],\n       [nan],\n       [nan],\n       [nan],\n       [nan],\n       [nan],\n       [nan],\n       [nan],\n       [nan],\n       [nan],\n       [nan],\n       [nan],\n       [nan],\n       [nan],\n       [nan],\n       [nan],\n       [nan],\n       [nan],\n       [nan],\n       [nan],\n       [nan],\n       [nan],\n       [nan],\n       [nan],\n       [nan],\n       [nan],\n       [nan],\n       [nan],\n       [nan],\n       [nan],\n       [nan],\n       [nan],\n       [nan],\n       [nan],\n       [nan],\n       [nan],\n       [nan],\n       [nan],\n       [nan],\n       [nan],\n       [nan],\n       [nan],\n       [nan],\n       [nan],\n       [nan],\n       [nan],\n       [nan],\n       [nan],\n       [nan],\n       [nan],\n       [nan],\n       [nan],\n       [nan],\n       [nan],\n       [nan],\n       [nan],\n       [nan],\n       [nan],\n       [nan],\n       [nan],\n       [nan],\n       [nan],\n       [nan],\n       [nan],\n       [nan],\n       [nan],\n       [nan],\n       [nan],\n       [nan],\n       [nan],\n       [nan],\n       [nan],\n       [nan],\n       [nan],\n       [nan],\n       [nan],\n       [nan],\n       [nan],\n       [nan],\n       [nan],\n       [nan],\n       [nan],\n       [nan],\n       [nan],\n       [nan],\n       [nan],\n       [nan],\n       [nan],\n       [nan],\n       [nan],\n       [nan],\n       [nan],\n       [nan],\n       [nan],\n       [nan],\n       [nan],\n       [nan],\n       [nan],\n       [nan],\n       [nan],\n       [nan],\n       [nan],\n       [nan],\n       [nan],\n       [nan],\n       [nan],\n       [nan],\n       [nan],\n       [nan],\n       [nan],\n       [nan],\n       [nan],\n       [nan],\n       [nan],\n       [nan],\n       [nan],\n       [nan],\n       [nan],\n       [nan],\n       [nan],\n       [nan],\n       [nan],\n       [nan],\n       [nan],\n       [nan],\n       [nan],\n       [nan],\n       [nan],\n       [nan],\n       [nan],\n       [nan],\n       [nan],\n       [nan],\n       [nan],\n       [nan],\n       [nan],\n       [nan],\n       [nan],\n       [nan],\n       [nan],\n       [nan],\n       [nan],\n       [nan],\n       [nan],\n       [nan],\n       [nan],\n       [nan],\n       [nan],\n       [nan],\n       [nan],\n       [nan],\n       [nan],\n       [nan],\n       [nan],\n       [nan],\n       [nan],\n       [nan],\n       [nan],\n       [nan],\n       [nan],\n       [nan],\n       [nan],\n       [nan],\n       [nan],\n       [nan],\n       [nan],\n       [nan],\n       [nan],\n       [nan],\n       [nan],\n       [nan],\n       [nan],\n       [nan],\n       [nan],\n       [nan],\n       [nan],\n       [nan],\n       [nan],\n       [nan],\n       [nan],\n       [nan],\n       [nan],\n       [nan],\n       [nan],\n       [nan],\n       [nan],\n       [nan],\n       [nan],\n       [nan],\n       [nan],\n       [nan],\n       [nan],\n       [nan],\n       [nan],\n       [nan],\n       [nan],\n       [nan],\n       [nan],\n       [nan],\n       [nan],\n       [nan],\n       [nan],\n       [nan],\n       [nan],\n       [nan],\n       [nan],\n       [nan],\n       [nan],\n       [nan],\n       [nan],\n       [nan],\n       [nan],\n       [nan],\n       [nan],\n       [nan],\n       [nan],\n       [nan],\n       [nan],\n       [nan],\n       [nan],\n       [nan],\n       [nan],\n       [nan],\n       [nan],\n       [nan],\n       [nan],\n       [nan],\n       [nan],\n       [nan],\n       [nan],\n       [nan],\n       [nan],\n       [nan],\n       [nan],\n       [nan],\n       [nan],\n       [nan],\n       [nan],\n       [nan]], dtype=float32)"
     },
     "metadata": {},
     "execution_count": 38
    }
   ],
   "source": [
    "model.predict(df2)"
   ]
  },
  {
   "cell_type": "code",
   "execution_count": null,
   "metadata": {},
   "outputs": [],
   "source": []
  },
  {
   "cell_type": "code",
   "execution_count": null,
   "metadata": {},
   "outputs": [],
   "source": []
  }
 ]
}